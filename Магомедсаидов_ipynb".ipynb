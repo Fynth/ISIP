{
  "nbformat": 4,
  "nbformat_minor": 0,
  "metadata": {
    "colab": {
      "provenance": [],
      "toc_visible": true,
      "authorship_tag": "ABX9TyPoQ5G2L/4IsD/BFi+b1XL2",
      "include_colab_link": true
    },
    "kernelspec": {
      "name": "python3",
      "display_name": "Python 3"
    },
    "language_info": {
      "name": "python"
    }
  },
  "cells": [
    {
      "cell_type": "markdown",
      "metadata": {
        "id": "view-in-github",
        "colab_type": "text"
      },
      "source": [
        "<a href=\"https://colab.research.google.com/github/Fynth/ISIP/blob/main/%D0%9C%D0%B0%D0%B3%D0%BE%D0%BC%D0%B5%D0%B4%D1%81%D0%B0%D0%B8%D0%B4%D0%BE%D0%B2_ipynb%22.ipynb\" target=\"_parent\"><img src=\"https://colab.research.google.com/assets/colab-badge.svg\" alt=\"Open In Colab\"/></a>"
      ]
    },
    {
      "cell_type": "code",
      "execution_count": null,
      "metadata": {
        "id": "3z6EZ7vmTjU4"
      },
      "outputs": [],
      "source": []
    },
    {
      "cell_type": "markdown",
      "source": [
        "лаба 2 (выполнено)"
      ],
      "metadata": {
        "id": "iVO-Dko4ZHQ0"
      }
    },
    {
      "cell_type": "code",
      "source": [
        "import math\n",
        "\n",
        "a = [9, 20]\n",
        "b = [13, 5]\n",
        "c = [14, 17]\n",
        "print (\"A:\",end = \" \")\n",
        "for i in range(len(a)):\n",
        "    print(a[i], end = \" \")\n",
        "\n",
        "print(\"\")\n",
        "print (\"B:\",end = \" \")\n",
        "for i in range(len(a)):\n",
        "    print(b[i], end = \" \")\n",
        "\n",
        "print(\"\")\n",
        "print (\"C:\",end = \" \")\n",
        "for i in range(len(a)):\n",
        "    print(c[i], end = \" \")\n",
        "\n",
        "Ma = [(b[0]+c[0])/2, (b[1]+c[1])/2]\n",
        "Mb = [(a[0]+c[0])/2, (a[1]+c[1])/2]\n",
        "Mc = [(b[0]+a[0])/2, (b[1]+a[1])/2]\n",
        "\n",
        "\n",
        "AM = math.sqrt((Ma[0] - a[0])**2 + (Ma[1] - a[1])**2)\n",
        "BM = math.sqrt((Mb[0] - b[0])**2 + (Mb[1] - b[1])**2)\n",
        "CM = math.sqrt((Mc[0] - c[0])**2 + (Mc[1] - c[1])**2)\n",
        "\n",
        "print(\"\")\n",
        "print (\"AM:\",end = \" \")\n",
        "for i in range(len(a)):\n",
        "    print(Ma[i], end = \" \")\n",
        "    \n",
        "print(\"\")\n",
        "print (\"BM:\",end = \" \")\n",
        "for i in range(len(a)):\n",
        "    print(Mb[i], end = \" \")\n",
        "\n",
        "print(\"\")\n",
        "print (\"CM:\",end = \" \")\n",
        "for i in range(len(a)):\n",
        "    print(Mc[i], end = \" \")\n",
        "\n",
        "print(\"\")\n",
        "print(\"\")\n",
        "print(\"AM =\", AM)\n",
        "print(\"BM =\", BM)\n",
        "print(\"CM =\", CM)\n",
        "\n",
        "AH = (abs((b[1]-c[1])*a[0]+(c[0]-b[0])*a[1]+(b[0]*c[1]-c[0]*b[1]))/math.sqrt((b[1]-c[1])**2+(c[0]-b[0])**2))\n",
        "BH = (abs((a[1]-c[1])*b[0]+(c[0]-a[0])*b[1]+(a[0]*c[1]-c[0]*a[1]))/math.sqrt((a[1]-c[1])**2+(c[0]-a[0])**2))\n",
        "CH = (abs((a[1]-b[1])*c[0]+(b[0]-a[0])*c[1]+(a[0]*b[1]-b[0]*a[1]))/math.sqrt((a[1]-b[1])**2+(b[0]-a[0])**2))\n",
        "\n",
        "print(\"\")\n",
        "print(\"AH =\", AH)\n",
        "print(\"BH =\", BH)\n",
        "print(\"CH =\", CH)"
      ],
      "metadata": {
        "id": "FTYiU6nwVelc"
      },
      "execution_count": null,
      "outputs": []
    },
    {
      "cell_type": "markdown",
      "source": [
        "лаба 3 (выполнено)"
      ],
      "metadata": {
        "id": "xImqVHa1ZMuV"
      }
    },
    {
      "cell_type": "code",
      "source": [
        "a = 57 * 9 + 3.4821 * (4 + 1)\n",
        "sum = 0\n",
        "mult = 1\n",
        "a = a * 10000 / 10000\n",
        "print(a)\n",
        "\n",
        "for i in range(0, 4):\n",
        "    sum += int(a % 10)\n",
        "    a //= 10\n",
        "print(\"сумма:\", sum)\n",
        "a *= 10000\n",
        "for i in range(0, 4):\n",
        "    mult *= int(a % 10)\n",
        "    a //= 10\n",
        "print(\"произведение:\", mult)"
      ],
      "metadata": {
        "id": "hA0yHnOfZrpx",
        "colab": {
          "base_uri": "https://localhost:8080/"
        },
        "outputId": "4a748afd-26ff-4903-a0bb-c3290165d66a"
      },
      "execution_count": null,
      "outputs": [
        {
          "output_type": "stream",
          "name": "stdout",
          "text": [
            "530.4105\n",
            "сумма: 8\n",
            "произведение: 0\n"
          ]
        }
      ]
    },
    {
      "cell_type": "markdown",
      "source": [
        "лаба 4"
      ],
      "metadata": {
        "id": "s9kPOPE6ZtZg"
      }
    },
    {
      "cell_type": "code",
      "source": [
        "a = str(10**9 + 9 * 108 + 4 * 10**6 - (9 + 4) * 10**4 + 2 * 4 + 9) #приводим число к строчному типу\n",
        "\n",
        "print(\"массив a:\", a)\n",
        "a = a[-1:] + a[:-1] #смещение массива на один элемент (массив[начало:конец:шаг])\n",
        "print(\"перестановка a:\", a)\n",
        "c = a[::-1] # обратная запись с помощью среза\n",
        "print(\"обратный массив c:\", c)\n",
        "q = 5\n",
        "print(\"пятый элемент массива a:\", a[q-1])"
      ],
      "metadata": {
        "id": "wRz5Ns6nZvTe",
        "colab": {
          "base_uri": "https://localhost:8080/"
        },
        "outputId": "a82db284-56c1-4d90-bb59-99a3515bbeaa"
      },
      "execution_count": 4,
      "outputs": [
        {
          "output_type": "stream",
          "name": "stdout",
          "text": [
            "массив a: 1003870989\n",
            "перестановка a: 9100387098\n",
            "обратный массив c: 8907830019\n",
            "пятый элемент массива a: 3\n"
          ]
        }
      ]
    },
    {
      "cell_type": "markdown",
      "source": [
        "лаба 5"
      ],
      "metadata": {
        "id": "yOMcOo35Zxsv"
      }
    },
    {
      "cell_type": "code",
      "source": [
        "i = 9\n",
        "j = 4\n",
        "val_s = 'name'\n",
        "print(type(val_s))\n",
        "val_i = i\n",
        "print(type(val_i))\n",
        "val_f = i + j / 10.\n",
        "print(type(val_f))\n",
        "val_b = i * 10 < j\n",
        "print(type(val_b))\n",
        "val_nb = not val_b\n",
        "print(type(val_nb))"
      ],
      "metadata": {
        "id": "qnKJprgGZz6x"
      },
      "execution_count": null,
      "outputs": []
    },
    {
      "cell_type": "markdown",
      "source": [
        "лаба 6"
      ],
      "metadata": {
        "id": "H-oZes0jZ2az"
      }
    },
    {
      "cell_type": "code",
      "source": [
        "import random\n",
        "i = 9\n",
        "j = 4\n",
        "s = 100 * 9 + 4\n",
        "random.seed(s)\n",
        "seq = tuple(random.random() for _ in range(100))\n",
        "max = seq[0]\n",
        "min = seq[0]\n",
        "sum = 0\n",
        "k = []\n",
        "print(\"список:\", seq)\n",
        "e = 0\n",
        "while e < len(seq):\n",
        "    if max < seq[e]: max = seq[e]\n",
        "    e += 1\n",
        "print(\"максимальный элемент массива:\", max)\n",
        "e = 0\n",
        "while e < len(seq):\n",
        "    if min > seq[e]: min = seq[e]\n",
        "    e += 1\n",
        "print(\"минимальный элемент массива:\", min)\n",
        "e = 0\n",
        "while e < len(seq):\n",
        "    if seq[e] > 0.5: sum += seq[e]\n",
        "    e += 1\n",
        "print(\"сумма условных элементов:\", sum)\n",
        "e = 0\n",
        "while e < len(seq):\n",
        "    if seq[e] < 0.5: k.append(seq[e])\n",
        "    e += 1\n",
        "k = k[:-1]\n",
        "e = 0\n",
        "print(\"список с условными элементами:\", k)\n",
        "t = 0\n",
        "while e < len(seq):\n",
        "    if 0.3 < seq[e] <0.7: t += 1\n",
        "    e += 1\n",
        "print(\"количество условных элементов начального массива:\", t)\n",
        "e = 0\n",
        "while e < len(seq):\n",
        "    if seq[e] > 0.9:\n",
        "        print(\"номер первого элемента условия:\", e+1)\n",
        "        break\n",
        "    e += 1"
      ],
      "metadata": {
        "id": "O0ZVYh2wZ5DC"
      },
      "execution_count": null,
      "outputs": []
    },
    {
      "cell_type": "markdown",
      "source": [
        "лаба 7"
      ],
      "metadata": {
        "id": "oMss78icZ_Fe"
      }
    },
    {
      "cell_type": "code",
      "source": [
        "import random\n",
        "i = 9\n",
        "j = 4\n",
        "s = 100 * i + j\n",
        "random.seed(s)\n",
        "seqs = [[random.random() for _ in range(random.randint(1, 100))] for _ in range(20)]\n",
        "for seq in seqs:\n",
        "\tif len(seq) % 10 == 1:\n",
        "\t\tprint(\"в массиве\", len(seq), \"элемент\")\n",
        "\telif len(seq) % 10 == 2 or len(seq) % 10 == 3: print(\"в массиве\", len(seq), \"элемента\")\n",
        "\telse: print(\"в массиве\", len(seq), \"элементов\")"
      ],
      "metadata": {
        "id": "HbhHVkKqaBtr"
      },
      "execution_count": null,
      "outputs": []
    },
    {
      "cell_type": "markdown",
      "source": [
        "лаба 8"
      ],
      "metadata": {
        "id": "OI9Vtvq5aDIy"
      }
    },
    {
      "cell_type": "code",
      "source": [
        "def exist(a, b, c):\n",
        "\tif a + b > c and a + c > b and b + c > a:\n",
        "\t\treturn 1\n",
        "\telse: return 0\n",
        "\n",
        "def correct(a, b, c):\n",
        "\tif a > 0 and b > 0 and c > 0:\n",
        "\t\treturn 1\n",
        "\telse: return 0\n",
        "\n",
        "def ravnobed(a, b, c):\n",
        "\tif a == b or a == c or b == c: return 1\n",
        "\telse: return 0\n",
        "\n",
        "def ravnostor(a, b, c):\n",
        "\tif a == b == c: return 1\n",
        "\telse: return 0\n",
        "\n",
        "a = int(input(\"введите сторону А:\"))\n",
        "b = int(input(\"введите сторону В:\"))\n",
        "c = int(input(\"введите сторону С:\"))\n",
        "if correct(a, b, c) == 1:\n",
        "\tprint(\"значения верны\")\n",
        "\tif exist(a, b, c) == 1:\n",
        "\t\tprint(\"треугольник существует\")\n",
        "\t\tif ravnobed(a, b, c) == 1:\n",
        "\t\t\tif ravnostor(a, b, c) == 1:\n",
        "\t\t\t\tprint(\"треугольник равносторонний\")\n",
        "\t\t\telse:\n",
        "\t\t\t\tprint(\"треугольник равнобедренный\")\n",
        "\t\t\t\n",
        "\telse: print(\"треугольникa с такими значениями не существует\")\n",
        "else: print(\"некорректные данные\")"
      ],
      "metadata": {
        "id": "yKUQav_VaEi8"
      },
      "execution_count": null,
      "outputs": []
    },
    {
      "cell_type": "markdown",
      "source": [
        "лаба 9"
      ],
      "metadata": {
        "id": "eMSZSBc3aHsb"
      }
    },
    {
      "cell_type": "code",
      "source": [
        "import random\n",
        "def sort(a, compar):\n",
        "\tfor n in range(0, len(a)):\n",
        "\t\tfor i in range(0, len(a) - 1):\n",
        "\t\t\tif compar(a[i], a[i+1]):\n",
        "\t\t\t\ta[i+1], a[i] = a[i], a[i+1]\n",
        "def comp(x, y):\n",
        "\treturn x < y\n",
        "i = 9\n",
        "j = 4\n",
        "s = 100 * i + j\n",
        "random.seed(s)\n",
        "seq10 = [random.random() for _ in range(10)]\n",
        "seq100 = [random.random() for _ in range(1000)]\n",
        "seq1000 = [random.random() for _ in range(1000)]\n",
        "print(\"массив до:\", seq10)\n",
        "print(\"\")\n",
        "sort(seq10, comp)\n",
        "seq10 = seq10[::-1]\n",
        "print(\"массив после:\", seq10)"
      ],
      "metadata": {
        "id": "u-Q3teRDaJNw"
      },
      "execution_count": null,
      "outputs": []
    }
  ]
}